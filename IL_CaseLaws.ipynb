{
 "cells": [
  {
   "cell_type": "markdown",
   "metadata": {},
   "source": [
    "Import necessary lib."
   ]
  },
  {
   "cell_type": "code",
   "execution_count": 1,
   "metadata": {},
   "outputs": [],
   "source": [
    "import re"
   ]
  },
  {
   "cell_type": "markdown",
   "metadata": {},
   "source": [
    "First check how many records in text.data.jsonl."
   ]
  },
  {
   "cell_type": "code",
   "execution_count": 2,
   "metadata": {},
   "outputs": [
    {
     "name": "stdout",
     "output_type": "stream",
     "text": [
      "Total record count: 183149\n"
     ]
    }
   ],
   "source": [
    "with open('text.data.jsonl','r') as fin:\n",
    "    total_count = 0\n",
    "    for line in fin:\n",
    "        match = re.match('\\{\"id\": ', line)\n",
    "        if match:\n",
    "            total_count+=1\n",
    "    print(\"Total record count: \" + str(total_count))"
   ]
  },
  {
   "cell_type": "code",
   "execution_count": 3,
   "metadata": {},
   "outputs": [
    {
     "name": "stdout",
     "output_type": "stream",
     "text": [
      "Records without opinions count: 216\n",
      "Records with opinions count: 182933\n"
     ]
    }
   ],
   "source": [
    "with open('text.data.jsonl','r') as fin:\n",
    "    no_opinion_count = 0\n",
    "    for line in fin:\n",
    "        match = re.search('\"opinions\": \\[\\]', line)\n",
    "        if match:\n",
    "            no_opinion_count += 1\n",
    "    print(\"Records without opinions count: \" + str(no_opinion_count))\n",
    "    print(\"Records with opinions count: \" + str(total_count - no_opinion_count))"
   ]
  },
  {
   "cell_type": "markdown",
   "metadata": {},
   "source": [
    "Now extract record id and opinions sections into a new file (opinions.txt)."
   ]
  },
  {
   "cell_type": "code",
   "execution_count": 4,
   "metadata": {},
   "outputs": [],
   "source": [
    "def re_repl_count(pattern,replacement_texts,line):\n",
    "    count = 0\n",
    "    tmp = re.findall(pattern,line)\n",
    "    count = len(tmp)\n",
    "    result_str = re.sub(pattern,replacement_texts,line) \n",
    "    return result_str, count;"
   ]
  },
  {
   "cell_type": "code",
   "execution_count": 17,
   "metadata": {
    "scrolled": true
   },
   "outputs": [
    {
     "name": "stdout",
     "output_type": "stream",
     "text": [
      "substitution 1 count: 183149\n",
      "substitution 2 count: 1881\n",
      "substitution 3 count: 194365\n"
     ]
    }
   ],
   "source": [
    "with open('opinions.csv','w') as fout:\n",
    "    with open('text.data.jsonl','r') as fin:\n",
    "        count_list = [0 for i in range(20)]\n",
    "        count_sub = 0\n",
    "        for line in fin: \n",
    "            if re.match(r'\\{\"id\": ([0-9]+), .+\\n', line):\n",
    "                i = 0\n",
    "                #get a record id\n",
    "                record_id = re.sub(r'\\{\"id\": ([0-9]+), \"name\": .+\\n', r'\"\\1\"',line)\n",
    "                \n",
    "                #sub 1: extract opinions segment and store it in result\n",
    "                result, count = re_repl_count(r'.+(?=\"opinions\": )\"opinions\": \\[(.*?)\\](?=, \"parties\"), \"parties\": .+\\n', r'\\1\\n', line)\n",
    "                count_list[i] += count\n",
    "                i = i + 1\n",
    "                \n",
    "                #sub 2:\n",
    "                result, count = re_repl_count(r' null(?=\\})', r' \"null\"', result)\n",
    "                count_list[i] += count\n",
    "                i = i + 1\n",
    "                \n",
    "                #sub 3: take the above result and add a newline and record id at the beginning of each type-text-author triplet.\n",
    "                result, count = re_repl_count(r'\\{\"type\": (\".*?\")(?=, \"text\": ), \"text\": (\".*?\")(?=, \"author\": ), \"author\": (\".*?\")\\}(, )?', record_id + r'\\t\\1\\t\\2\\t\\3', result) \n",
    "                count_list[i] += count\n",
    "                i = i + 1\n",
    "                \n",
    "                fout.write(result)\n",
    "                count_sub = i\n",
    "                \n",
    "        for j in range(count_sub): \n",
    "            print('substitution ' + str(j + 1) + ' count: ' + str(count_list[j])) "
   ]
  },
  {
   "cell_type": "markdown",
   "metadata": {},
   "source": [
    "Side notes:\n",
    "One record can have multiple type-text-author triplets.\n",
    "In the extracted opinions.txt, there are 194365 type-text-author triplets that cover 182933 records. Each triplet is preceeded with the corresponding record id separated by a tab."
   ]
  },
  {
   "cell_type": "code",
   "execution_count": 18,
   "metadata": {},
   "outputs": [
    {
     "name": "stdout",
     "output_type": "stream",
     "text": [
      "substitution 1 count: 183149\n",
      "substitution 2 count: 183149\n",
      "substitution 3 count: 14\n",
      "substitution 4 count: 183135\n",
      "substitution 5 count: 183149\n",
      "substitution 6 count: 183149\n",
      "substitution 7 count: 183149\n",
      "substitution 8 count: 183149\n"
     ]
    }
   ],
   "source": [
    "with open('without_opinions.csv','w') as fout:\n",
    "    with open('text.data.jsonl','r') as fin:\n",
    "        count_list = [0 for i in range(20)]\n",
    "        count_sub = 0\n",
    "        for line in fin: \n",
    "            if re.match(r'\\{\"id\": ([0-9]+), .+\\n', line):\n",
    "                i = 0\n",
    "                #get a record id\n",
    "                record_id = re.sub(r'\\{\"id\": ([0-9]+), \"name\": .+\\n', r'\"\\1\"',line)\n",
    "                \n",
    "                #sub 1: extract non-opinions segment and store it in result\n",
    "                result, count = re_repl_count(r'\\{\"id\": [0-9]+, (\"name\": \".*?)(?=, \"data\": ), \"data\": \\{\"opinions\": .*?(?=, \"parties\": )(, \"parties\": .+)', r'\\1\\2', line)\n",
    "                count_list[i] += count\n",
    "                i = i + 1\n",
    "                \n",
    "                #sub 2:\n",
    "                \"\"\"\n",
    "                1 - name\n",
    "                2 - name_abbreviation\n",
    "                3 - decision_date\n",
    "                4 - docket_number\n",
    "                5 - first_page\n",
    "                6 - last_page\n",
    "                7 - citations\n",
    "                8 - the rest\n",
    "                \"\"\"\n",
    "                result, count = re_repl_count(r'\"name\": (\".*?\")(?=, \"name_abbreviation\": ), \"name_abbreviation\": (.*?)(?=, \"decision_date\": ), \"decision_date\": (\"[^\"]*?\"), \"docket_number\": (\"[^\"]*?\"), \"first_page\": (\"[^\"]*?\"), \"last_page\": (\"[^\"]*?\"), (\"citations\": \\[.*?\\], )(?=\"volume\": )(\"volume\": .+\\n)', r'\\1\\t\\2\\t\\3\\t\\4\\t\\5\\t\\6\\t\\7\\t\\8', result)\n",
    "                count_list[i] += count\n",
    "                i = i + 1\n",
    "                \n",
    "                #sub 3: citations\n",
    "                if re.search(r'\"cite\": \"[^\"]*?\"., .\"type\": \"', result):\n",
    "                    result, count = re_repl_count(r'(.*?)(?=\"citations\": )\"citations\": \\[\\{\"type\": (\"[^\"]*?\"), \"cite\": (\"[^\"]*?\")\\}, \\{\"type\": (\"[^\"]*?\"), \"cite\": (\"[^\"]*?\")\\}\\](.+\\n)', r'\\1\\t\\2\\t\\3\\t\\4\\t\\5\\t\\6', result)\n",
    "                    count_list[i] += count\n",
    "                #sub 4: citations\n",
    "                else:    \n",
    "                    result, count = re_repl_count(r'(.*?)(?=\"citations\": )\"citations\": \\[\\{\"type\": (\"[^\"]*?\"), \"cite\": (\"[^\"]*?\")\\}\\](.+\\n)', r'\\1\\t\\2\\t\\3\\t\\t\\t\\4', result)\n",
    "                    count_list[i+1] += count\n",
    "                i = i + 2\n",
    "                \n",
    "                #sub 5:\n",
    "                \"\"\"\n",
    "                1 - the rest\n",
    "                2 - volume_number\n",
    "                3 - full_name\n",
    "                4 - the rest\n",
    "                \"\"\"                \n",
    "                result, count = re_repl_count(r'(.*?)(?=\"volume\": )\"volume\": \\{\"volume_number\": (\"[^\"]*?\")\\}, \"reporter\": \\{\"full_name\": (\".*?\")\\}, (\"court\": .+\\n)', r'\\1\\2\\t\\3\\t\\4', result)                \n",
    "                count_list[i] += count\n",
    "                i = i + 1\n",
    "                \n",
    "                #sub 6:\n",
    "                \"\"\"\n",
    "                1 - the rest\n",
    "                (court)\n",
    "                2 - id\n",
    "                3 - name\n",
    "                4 - name_abbreviation\n",
    "                5 - jurisdiction_url\n",
    "                6 - slug\n",
    "                7 - the rest\n",
    "                \"\"\"                \n",
    "                result, count = re_repl_count(r'(.*?)(?=\"court\": )\"court\": .\"id\": ([^,]*?), \"name\": (\".*?\")(?=, \"name_abbreviation\": ), \"name_abbreviation\": (\".*?\")(?=, \"jurisdiction_url\": ), \"jurisdiction_url\": ([^,]*?), \"slug\": (\"[^\"]*?\")., (\"jurisdiction\": .+\\n)', r'\\1\\2\\t\\3\\t\\4\\t\"\\5\"\\t\\6\\t\\7', result)                \n",
    "                count_list[i] += count\n",
    "                i = i + 1                  \n",
    "                \n",
    "                #sub 7:\n",
    "                \"\"\"\n",
    "                1 - the rest\n",
    "                (jurisdiction)\n",
    "                2 - id\n",
    "                3 - slug\n",
    "                4 - name\n",
    "                5 - name_long\n",
    "                6 - whitelisted\n",
    "                7 - the rest\n",
    "                \"\"\"  \n",
    "                result, count = re_repl_count(r'(.*?)(?=\"jurisdiction\": )\"jurisdiction\": \\{\"id\": ([0-9]*?), \"slug\": (\"[^\"]*?\"), \"name\": (\"[^\"]*?\"), \"name_long\": (\"[^\"]*?\"), \"whitelisted\": ([^\"]*?)\\}, (\"casebody\": .+\\n)', r'\\1\\t\"\\2\"\\t\\3\\t\\4\\t\\5\\t\"\\6\"\\t\\7', result)\n",
    "                count_list[i] += count\n",
    "                i = i + 1\n",
    "                \n",
    "                #sub 8:\n",
    "                \"\"\"\n",
    "                1 - the rest\n",
    "                (casebody)\n",
    "                2 - status\n",
    "                3 - parties\n",
    "                4 - attorneys\n",
    "                5 - head_matter\n",
    "                6 - judges\n",
    "                \"\"\"  \n",
    "                result, count = re_repl_count(r'(.+)\\t\"casebody\": \\{\"status\": (\"[a-z]+\"), \"parties\": \\[(.*?)\\], \"attorneys\": (.*?)(?=, \"head_matter\":), \"head_matter\": (\".*?\")(?=, \"judges\": ), \"judges\": \\[(.*?)\\]...\\n', r'\\1\\t\\2\\t\\3\\t\\4\\t\\5\\t\\6\\n', result)\n",
    "                count_list[i] += count\n",
    "                i = i + 1\n",
    "                \n",
    "                result = record_id + '\\t' + result\n",
    "                fout.write(result)\n",
    "                count_sub = i\n",
    "\n",
    "        for j in range(count_sub): \n",
    "            print('substitution ' + str(j + 1) + ' count: ' + str(count_list[j])) "
   ]
  },
  {
   "cell_type": "code",
   "execution_count": null,
   "metadata": {},
   "outputs": [],
   "source": []
  }
 ],
 "metadata": {
  "kernelspec": {
   "display_name": "Python 3",
   "language": "python",
   "name": "python3"
  },
  "language_info": {
   "codemirror_mode": {
    "name": "ipython",
    "version": 3
   },
   "file_extension": ".py",
   "mimetype": "text/x-python",
   "name": "python",
   "nbconvert_exporter": "python",
   "pygments_lexer": "ipython3",
   "version": "3.6.9"
  }
 },
 "nbformat": 4,
 "nbformat_minor": 4
}
